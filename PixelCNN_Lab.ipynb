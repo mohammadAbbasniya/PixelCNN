{
 "cells": [
  {
   "cell_type": "markdown",
   "metadata": {
    "id": "p1iK3lmdNudu"
   },
   "source": [
    "\n",
    "<h1><center>Generative models</center></h1>"
   ]
  },
  {
   "cell_type": "markdown",
   "metadata": {
    "id": "l46tGNiNsE64"
   },
   "source": [
    "# PixelCNN: A Generative Model\n",
    "PixelCNN is a type of autoregressive generative model developed for modeling images. It captures the dependencies between pixels, allowing it to generate new images pixel by pixel. Unlike traditional generative models, PixelCNN models the conditional distribution of each pixel given the previous ones.\n"
   ]
  },
  {
   "cell_type": "markdown",
   "metadata": {
    "id": "JliDpWcstYsf"
   },
   "source": [
    "## Autoregressive Models\n",
    "Autoregressive models aim to predict the next element in a sequence based on prior elements. In the context of images, PixelCNN models the probability distribution of each pixel given all previous pixels in raster order (top to bottom, left to right). This enables generating images from scratch.\n",
    "\n",
    "The key idea of PixelCNN is to factor the image's joint distribution into a product of conditional distributions:\n",
    "$$ P(x) = \\prod_i P(x_i | x_{1:i-1}) $$\n",
    "\n",
    "Where each pixel is conditioned on the previous pixels.\n"
   ]
  },
  {
   "cell_type": "markdown",
   "metadata": {
    "id": "V1Bbg2SdtY0n"
   },
   "source": [
    "## PixelCNN Architecture\n",
    "PixelCNN uses a stack of convolutional layers where each layer is masked to ensure that the pixel at position (i, j) only depends on previous pixels. The network models the conditional probability of a pixel given its neighbors.\n",
    "\n",
    "The structure can be visualized as:\n",
    "\n",
    "![PixelCNN Architecture](https://camo.githubusercontent.com/2f581257c289298057989d11aa1ad507c2af397b2471c592f7b17a5dbecd731e/687474703a2f2f736572676569747572756b696e2e636f6d2f6173736574732f323031372d30322d32322d3138333031305f343739783439345f7363726f742e706e67)  <!-- Add actual image reference here -->\n"
   ]
  },
  {
   "cell_type": "markdown",
   "metadata": {
    "id": "aX_0cc4otY4_"
   },
   "source": [
    "## PixelCNN Architecture\n",
    "PixelCNN uses a stack of convolutional layers where each layer is masked to ensure that the pixel at position (i, j) only depends on previous pixels. The network models the conditional probability of a pixel given its neighbors.\n",
    "\n",
    "The structure can be visualized as:\n",
    "\n",
    "![PixelCNN Architecture](https://camo.githubusercontent.com/2b432c6d87633c75685c3703167c0a6b5a6d6592a7ca95540bf02f6de890052c/68747470733a2f2f6c696c69616e77656e672e6769746875622e696f2f6c696c2d6c6f672f6173736574732f696d616765732f706978656c2d636e6e2e706e67)  <!-- Add actual image reference here -->\n"
   ]
  },
  {
   "cell_type": "markdown",
   "metadata": {
    "id": "SCWxdgV2t7B2"
   },
   "source": [
    "## Masked Convolutions\n",
    "PixelCNN employs masked convolutions to ensure that future pixels are not used in the computation of the current pixel's distribution. There are two types of masks:\n",
    "\n",
    "- **Mask A**\n",
    "- **Mask B**\n",
    "\n",
    "This technique helps preserve the autoregressive nature of the model.\n"
   ]
  },
  {
   "cell_type": "markdown",
   "metadata": {
    "id": "b3MQjkbQwqp7"
   },
   "source": [
    "## Implementation\n",
    "\n",
    "PyTorch buffers are tensor attributes associated with a PyTorch module or model similar to parameters, but unlike parameters, buffers are not updated during training.\n",
    "\n"
   ]
  },
  {
   "cell_type": "markdown",
   "metadata": {
    "id": "HoN74FqFixn9"
   },
   "source": [
    "### Prepare dataset"
   ]
  },
  {
   "cell_type": "code",
   "execution_count": null,
   "metadata": {
    "id": "Fxu8iXldi1sU"
   },
   "outputs": [],
   "source": [
    "from torch.utils.data import DataLoader\n",
    "from torchvision import datasets, transforms\n",
    "\n",
    "\n",
    "class BinaryTransform(object):\n",
    "    def __init__(self, threshold=0.5):\n",
    "        self.toTensor = transforms.ToTensor()\n",
    "        self.threshold = threshold\n",
    "\n",
    "    def __call__(self, sample):\n",
    "        sample = self.toTensor(sample)\n",
    "        sample[sample >= self.threshold] = 1\n",
    "        sample[sample < self.threshold] = 0\n",
    "        return sample\n",
    "\n",
    "train_dataset = datasets.MNIST(root='./data', train=True, transform=BinaryTransform(), download=True)\n",
    "test_dataset = datasets.MNIST(root='./data', train=False, transform=BinaryTransform(), download=True)\n",
    "\n",
    "train_loader = DataLoader(train_dataset, batch_size=32, shuffle=True)\n",
    "test_loader = DataLoader(test_dataset, batch_size=32, shuffle=False)"
   ]
  },
  {
   "cell_type": "markdown",
   "metadata": {
    "id": "14y0KynNi2Ek"
   },
   "source": [
    "### Model implementation\n",
    "\n",
    "    Mask type A sets the central pixel of the convolution operation to 0, while a type B mask sets it to 1.\n"
   ]
  },
  {
   "cell_type": "code",
   "execution_count": null,
   "metadata": {
    "id": "7oWdFz1Utt0h"
   },
   "outputs": [],
   "source": [
    "import torch\n",
    "import torch.nn as nn\n",
    "\n",
    "\n",
    "class MaskedConv2d(nn.Conv2d):\n",
    "    \"\"\"\n",
    "    Class extending nn.Conv2d to use masks.\n",
    "    \"\"\"\n",
    "    def __init__(self, mask_type, in_channels, out_channels, kernel_size, padding=0):\n",
    "        super(MaskedConv2d, self).__init__(in_channels, out_channels, kernel_size, padding=padding)\n",
    "\n",
    "        mask = torch.ones(kernel_size, kernel_size)\n",
    "        k = (kernel_size + 1) // 2 - 1\n",
    "        if mask_type == 'A':\n",
    "            mask[k, k:] = 0\n",
    "            mask[k + 1:, :] = 0\n",
    "        elif mask_type == 'B':\n",
    "            mask[k, k:] = 0\n",
    "            mask[k + 1:, :] = 0\n",
    "            mask[k, k] = 1\n",
    "        else:\n",
    "            raise 'mask_type must be A or B'\n",
    "        self.register_buffer('mask', mask)\n",
    "\n",
    "    def forward(self, x):\n",
    "        self.weight.data *= self.mask\n",
    "        return super(MaskedConv2d, self).forward(x)\n",
    "\n",
    "\n",
    "\n",
    "class PixelCNN(nn.Module):\n",
    "    def __init__(self, in_channels=1, h_channels=64):\n",
    "        super(PixelCNN, self).__init__()\n",
    "        self.in_channels = in_channels\n",
    "        self.h_channels = h_channels\n",
    "\n",
    "        self.convs = nn.Sequential(\n",
    "            MaskedConv2d('A', in_channels, h_channels, kernel_size=7, padding=3), nn.ReLU(),\n",
    "\n",
    "            MaskedConv2d('B', h_channels, h_channels, kernel_size=7, padding=3), nn.ReLU(),\n",
    "            MaskedConv2d('B', h_channels, h_channels, kernel_size=7, padding=3), nn.ReLU(),\n",
    "            MaskedConv2d('B', h_channels, h_channels, kernel_size=7, padding=3), nn.ReLU(),\n",
    "            MaskedConv2d('B', h_channels, h_channels, kernel_size=7, padding=3), nn.ReLU(),\n",
    "            MaskedConv2d('B', h_channels, h_channels, kernel_size=7, padding=3), nn.ReLU(),\n",
    "\n",
    "            MaskedConv2d('B', h_channels, h_channels, kernel_size=1), nn.ReLU(),\n",
    "            MaskedConv2d('B', h_channels, 1, kernel_size=1),\n",
    "\n",
    "            nn.Sigmoid()\n",
    "        )\n",
    "\n",
    "    def forward(self, x):\n",
    "        return self.convs(x)\n",
    "\n",
    "    def name(self):\n",
    "        return f'PixelCNN_inC{self.in_channels}_hC{self.h_channels}'"
   ]
  },
  {
   "cell_type": "markdown",
   "metadata": {
    "id": "gSKeBA8Ri6EF"
   },
   "source": [
    "### Training"
   ]
  },
  {
   "cell_type": "code",
   "execution_count": null,
   "metadata": {
    "id": "-IwEjD_J5LFD"
   },
   "outputs": [],
   "source": [
    "!pip install torchinfo -q"
   ]
  },
  {
   "cell_type": "code",
   "execution_count": null,
   "metadata": {
    "colab": {
     "base_uri": "https://localhost:8080/"
    },
    "executionInfo": {
     "elapsed": 447,
     "status": "ok",
     "timestamp": 1732472016148,
     "user": {
      "displayName": "mohammad reza abbasniya",
      "userId": "03364021267688316700"
     },
     "user_tz": -210
    },
    "id": "LBlrd62s4CSh",
    "outputId": "82aaea3e-2116-40e8-f359-540fb2554df8"
   },
   "outputs": [
    {
     "name": "stdout",
     "output_type": "stream",
     "text": [
      "=================================================================\n",
      "Layer (type:depth-idx)                   Param #\n",
      "=================================================================\n",
      "PixelCNN                                 --\n",
      "├─Sequential: 1-1                        --\n",
      "│    └─MaskedConv2d: 2-1                 3,200\n",
      "│    └─ReLU: 2-2                         --\n",
      "│    └─MaskedConv2d: 2-3                 200,768\n",
      "│    └─ReLU: 2-4                         --\n",
      "│    └─MaskedConv2d: 2-5                 200,768\n",
      "│    └─ReLU: 2-6                         --\n",
      "│    └─MaskedConv2d: 2-7                 200,768\n",
      "│    └─ReLU: 2-8                         --\n",
      "│    └─MaskedConv2d: 2-9                 200,768\n",
      "│    └─ReLU: 2-10                        --\n",
      "│    └─MaskedConv2d: 2-11                200,768\n",
      "│    └─ReLU: 2-12                        --\n",
      "│    └─MaskedConv2d: 2-13                4,160\n",
      "│    └─ReLU: 2-14                        --\n",
      "│    └─MaskedConv2d: 2-15                65\n",
      "│    └─Sigmoid: 2-16                     --\n",
      "=================================================================\n",
      "Total params: 1,011,265\n",
      "Trainable params: 1,011,265\n",
      "Non-trainable params: 0\n",
      "=================================================================\n"
     ]
    }
   ],
   "source": [
    "from torchinfo import summary\n",
    "n_epochs = 5\n",
    "device =  torch.device('cuda' if torch.cuda.is_available() else 'cpu')\n",
    "\n",
    "model = PixelCNN()\n",
    "model= model.to(device)\n",
    "optimizer = torch.optim.Adam(model.parameters(), lr = 0.001)\n",
    "criterion = torch.nn.BCELoss()\n",
    "\n",
    "print(summary(model))"
   ]
  },
  {
   "cell_type": "code",
   "execution_count": null,
   "metadata": {
    "colab": {
     "base_uri": "https://localhost:8080/"
    },
    "executionInfo": {
     "elapsed": 185282,
     "status": "ok",
     "timestamp": 1732472443177,
     "user": {
      "displayName": "mohammad reza abbasniya",
      "userId": "03364021267688316700"
     },
     "user_tz": -210
    },
    "id": "fNy8-7hBi798",
    "outputId": "877be2d4-335c-4bea-f895-144807b53081"
   },
   "outputs": [
    {
     "name": "stderr",
     "output_type": "stream",
     "text": [
      "Training[1/5]: 100%|██████████| 1875/1875 [01:16<00:00, 24.64it/s, batch-loss:0.08743, avg-loss:0.10411]\n",
      "Validate[1/5]: 100%|██████████| 313/313 [00:05<00:00, 61.39it/s, batch-loss:0.08097, avg-loss:0.08383]\n"
     ]
    },
    {
     "name": "stdout",
     "output_type": "stream",
     "text": [
      "\n",
      "\n"
     ]
    },
    {
     "name": "stderr",
     "output_type": "stream",
     "text": [
      "Training[2/5]: 100%|██████████| 1875/1875 [01:17<00:00, 24.16it/s, batch-loss:0.07348, avg-loss:0.08333]\n",
      "Validate[2/5]: 100%|██████████| 313/313 [00:05<00:00, 56.40it/s, batch-loss:0.07930, avg-loss:0.08162]\n"
     ]
    },
    {
     "name": "stdout",
     "output_type": "stream",
     "text": [
      "\n",
      "\n"
     ]
    },
    {
     "name": "stderr",
     "output_type": "stream",
     "text": [
      "Training[3/5]: 100%|██████████| 1875/1875 [01:17<00:00, 24.33it/s, batch-loss:0.08085, avg-loss:0.08122]\n",
      "Validate[3/5]: 100%|██████████| 313/313 [00:05<00:00, 54.48it/s, batch-loss:0.07777, avg-loss:0.08028]\n"
     ]
    },
    {
     "name": "stdout",
     "output_type": "stream",
     "text": [
      "\n",
      "\n"
     ]
    },
    {
     "name": "stderr",
     "output_type": "stream",
     "text": [
      "Training[4/5]: 100%|██████████| 1875/1875 [01:18<00:00, 23.89it/s, batch-loss:0.08071, avg-loss:0.07985]\n",
      "Validate[4/5]: 100%|██████████| 313/313 [00:05<00:00, 53.64it/s, batch-loss:0.07484, avg-loss:0.07883]\n"
     ]
    },
    {
     "name": "stdout",
     "output_type": "stream",
     "text": [
      "\n",
      "\n"
     ]
    },
    {
     "name": "stderr",
     "output_type": "stream",
     "text": [
      "Training[5/5]: 100%|██████████| 1875/1875 [01:18<00:00, 23.85it/s, batch-loss:0.07547, avg-loss:0.07880]\n",
      "Validate[5/5]: 100%|██████████| 313/313 [00:05<00:00, 56.82it/s, batch-loss:0.07408, avg-loss:0.07880]\n"
     ]
    },
    {
     "name": "stdout",
     "output_type": "stream",
     "text": [
      "\n",
      "\n"
     ]
    }
   ],
   "source": [
    "from tqdm import tqdm\n",
    "\n",
    "def train_epoch(model, dataloader, criterion, optimizer, device, bar_desc='Training', display_bar=True):\n",
    "    model.train()\n",
    "    if display_bar:\n",
    "        bar = tqdm(total=len(dataloader), desc=bar_desc, postfix='', leave=True, position=0)\n",
    "\n",
    "    sum_loss = 0\n",
    "    all_losses = []\n",
    "    for batch_i, (inputs,_) in enumerate(dataloader):\n",
    "        inputs = inputs.to(device)\n",
    "        B = len(inputs)\n",
    "\n",
    "        optimizer.zero_grad()\n",
    "        outputs = model(inputs)\n",
    "\n",
    "        outputs = outputs.reshape(B, -1)\n",
    "        inputs = inputs.reshape(B, -1)\n",
    "        loss = criterion(outputs, inputs)\n",
    "        loss.backward()\n",
    "        optimizer.step()\n",
    "\n",
    "        sum_loss += loss.item()\n",
    "        all_losses.append(loss.item())\n",
    "\n",
    "        if display_bar:\n",
    "            avg_loss = sum_loss / (batch_i+1)\n",
    "            bar.set_postfix_str(f'batch-loss:{loss.item():.5f}, avg-loss:{avg_loss:.5f}')\n",
    "            bar.update(1)\n",
    "\n",
    "        inputs = inputs.cpu()\n",
    "        outputs = outputs.cpu()\n",
    "        del inputs, outputs\n",
    "\n",
    "    if display_bar: del bar\n",
    "\n",
    "    avg_loss = sum_loss / len(dataloader)\n",
    "    return  {'avg_loss' : avg_loss,'all-losses': all_losses}\n",
    "\n",
    "\n",
    "\n",
    "def val_epoch(model, dataloader, criterion, device, bar_desc='Validating', display_bar=True):\n",
    "    model.train()\n",
    "    if display_bar:\n",
    "        bar = tqdm(total=len(dataloader), desc=bar_desc, postfix='', leave=True, position=0)\n",
    "\n",
    "    sum_loss = 0\n",
    "    all_losses = []\n",
    "    for batch_i, (inputs,_) in enumerate(dataloader):\n",
    "        inputs = inputs.to(device)\n",
    "        B = len(inputs)\n",
    "\n",
    "        outputs = model(inputs)\n",
    "        outputs = outputs.reshape(B, -1)\n",
    "        inputs = inputs.reshape(B, -1)\n",
    "        loss = criterion(outputs, inputs).item()\n",
    "\n",
    "        sum_loss += loss\n",
    "        all_losses.append(loss)\n",
    "\n",
    "        if display_bar:\n",
    "            avg_loss = sum_loss / (batch_i+1)\n",
    "            bar.set_postfix_str(f'batch-loss:{loss:.5f}, avg-loss:{avg_loss:.5f}')\n",
    "            bar.update(1)\n",
    "\n",
    "        inputs = inputs.cpu()\n",
    "        outputs = outputs.cpu()\n",
    "        del inputs, outputs\n",
    "\n",
    "    if display_bar: del bar\n",
    "\n",
    "    avg_loss = sum_loss / len(dataloader)\n",
    "    return  {'avg_loss' : avg_loss,'all-losses': all_losses}\n",
    "\n",
    "\n",
    "\n",
    "results = []\n",
    "for epoch in range(n_epochs):\n",
    "    res_train = train_epoch(model, train_loader, criterion, optimizer, device, bar_desc=f'Training[{epoch+1}/{n_epochs}]')\n",
    "    res_val = val_epoch(model, test_loader, criterion, device, bar_desc=f'Validate[{epoch+1}/{n_epochs}]')\n",
    "\n",
    "    print('\\n')\n",
    "    results.append((res_train, res_val))\n",
    "\n",
    "torch.save(model.state_dict(), model.name() + '.pkl')"
   ]
  },
  {
   "cell_type": "code",
   "execution_count": null,
   "metadata": {
    "colab": {
     "base_uri": "https://localhost:8080/",
     "height": 333
    },
    "executionInfo": {
     "elapsed": 637,
     "status": "ok",
     "timestamp": 1732472479779,
     "user": {
      "displayName": "mohammad reza abbasniya",
      "userId": "03364021267688316700"
     },
     "user_tz": -210
    },
    "id": "i2lzY_VlIpMz",
    "outputId": "e2cd0a65-2017-4002-e583-3c3d3ccd93c4"
   },
   "outputs": [
    {
     "data": {
      "image/png": "[encoded data removed]",
      "text/plain": [
       "<Figure size 1000x400 with 1 Axes>"
      ]
     },
     "metadata": {},
     "output_type": "display_data"
    }
   ],
   "source": [
    "import matplotlib.pyplot as plt\n",
    "\n",
    "epoch_train_loss = [x[0]['avg_loss'] for x in results]\n",
    "epoch_val_loss = [x[1]['avg_loss'] for x in results]\n",
    "\n",
    "plt.figure(figsize=(10, 4))\n",
    "plt.plot(epoch_train_loss, label='Train Loss')\n",
    "plt.plot(epoch_val_loss, label='Val Loss')\n",
    "\n",
    "plt.tight_layout()\n",
    "plt.legend()\n",
    "plt.show()"
   ]
  },
  {
   "cell_type": "markdown",
   "metadata": {
    "id": "3mpa7Hgqi8Mt"
   },
   "source": [
    "### Generate samples"
   ]
  },
  {
   "cell_type": "code",
   "execution_count": null,
   "metadata": {
    "colab": {
     "base_uri": "https://localhost:8080/"
    },
    "executionInfo": {
     "elapsed": 18738,
     "status": "ok",
     "timestamp": 1732472536539,
     "user": {
      "displayName": "mohammad reza abbasniya",
      "userId": "03364021267688316700"
     },
     "user_tz": -210
    },
    "id": "S-CNPQhGi-u7",
    "outputId": "61170e96-2a16-4e57-fb91-8d843c642024"
   },
   "outputs": [
    {
     "name": "stderr",
     "output_type": "stream",
     "text": [
      "Generating: 100%|██████████| 784/784 [00:18<00:00, 42.43it/s]\n"
     ]
    }
   ],
   "source": [
    "def generate(model, width, height, num_samples, display_bar=True):\n",
    "    if display_bar:\n",
    "        bar = tqdm(total=width*height, desc='Generating', postfix='', leave=True, position=0)\n",
    "\n",
    "    with torch.no_grad():\n",
    "        res = torch.zeros(num_samples, 1, width, height).to(device)\n",
    "        for i in range(width):\n",
    "            for j in range(height):\n",
    "                out = model(res)[:, :, i, j]\n",
    "                res[:, :, i, j] = torch.bernoulli(out)\n",
    "                if display_bar: bar.update(1)\n",
    "        if display_bar: del bar\n",
    "    return res\n",
    "\n",
    "num_samples = 100\n",
    "results = generate(model, 28, 28, num_samples)"
   ]
  },
  {
   "cell_type": "code",
   "execution_count": null,
   "metadata": {
    "colab": {
     "base_uri": "https://localhost:8080/",
     "height": 818
    },
    "executionInfo": {
     "elapsed": 4357,
     "status": "ok",
     "timestamp": 1732472505904,
     "user": {
      "displayName": "mohammad reza abbasniya",
      "userId": "03364021267688316700"
     },
     "user_tz": -210
    },
    "id": "7OWI3Um6Gowh",
    "outputId": "17f268f2-3952-4b97-d08d-e73202a0c733"
   },
   "outputs": [
    {
     "data": {
      "image/png": "[encoded data removed]",
      "text/plain": [
       "<Figure size 1500x1500 with 100 Axes>"
      ]
     },
     "metadata": {},
     "output_type": "display_data"
    }
   ],
   "source": [
    "fig, axes = plt.subplots(10, 10, figsize=(15, 15))\n",
    "axes = axes.ravel()\n",
    "for i in range(num_samples):\n",
    "    axes[i].imshow(results[i].squeeze().cpu(), cmap='gray')\n",
    "    axes[i].axis('off')\n",
    "plt.show()"
   ]
  },
  {
   "cell_type": "code",
   "execution_count": null,
   "metadata": {
    "id": "A_GjY2owG506"
   },
   "outputs": [],
   "source": []
  }
 ],
 "metadata": {
  "accelerator": "GPU",
  "colab": {
   "gpuType": "T4",
   "provenance": [],
   "toc_visible": true
  },
  "kernelspec": {
   "display_name": "Python 3",
   "name": "python3"
  },
  "language_info": {
   "name": "python"
  }
 },
 "nbformat": 4,
 "nbformat_minor": 0
}
